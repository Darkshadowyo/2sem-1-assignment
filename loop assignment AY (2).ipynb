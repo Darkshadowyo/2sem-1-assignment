{
 "cells": [
  {
   "cell_type": "code",
   "execution_count": 1,
   "id": "f73ae544-96d9-4acb-a92c-f9f0c9e0b8e5",
   "metadata": {},
   "outputs": [
    {
     "name": "stdin",
     "output_type": "stream",
     "text": [
      "Enter the number of students:  01\n",
      "Enter the number of subjects:  5\n",
      "Enter name for student 1:  yogi\n",
      "Enter marks for yogi in subject 1:  89\n",
      "Enter marks for yogi in subject 2:  79\n",
      "Enter marks for yogi in subject 3:  69\n",
      "Enter marks for yogi in subject 4:  59\n",
      "Enter marks for yogi in subject 5:  49\n"
     ]
    },
    {
     "name": "stdout",
     "output_type": "stream",
     "text": [
      "\n",
      "Student: yogi\n",
      "Total Marks: 345.0\n",
      "Grade: C\n"
     ]
    }
   ],
   "source": [
    "def calculate_total_marks(subject_marks):\n",
    "    return sum(subject_marks)\n",
    "\n",
    "def calculate_grade(total_marks):\n",
    "    if total_marks >= 600:\n",
    "        return 'O'\n",
    "    elif total_marks >= 540:\n",
    "        return 'A'\n",
    "    elif total_marks >= 470:\n",
    "        return 'B'\n",
    "    elif total_marks >= 150:\n",
    "        return 'C'\n",
    "    else:\n",
    "        return 'D'\n",
    "\n",
    "num_students = int(input(\"Enter the number of students: \"))\n",
    "num_subjects = int(input(\"Enter the number of subjects: \"))\n",
    "\n",
    "\n",
    "\n",
    "student_data = {}\n",
    "\n",
    "for i in range(1, num_students + 1):\n",
    "    student_name = input(f\"Enter name for student {i}: \")\n",
    "    \n",
    "    \n",
    "    subject_marks = []\n",
    "    \n",
    "    \n",
    "    for j in range(1, num_subjects + 1):\n",
    "        mark = float(input(f\"Enter marks for {student_name} in subject {j}: \"))\n",
    "        subject_marks.append(mark)\n",
    "    \n",
    "    \n",
    "    total_marks = calculate_total_marks(subject_marks)\n",
    "    grade = calculate_grade(total_marks)\n",
    "    \n",
    "   \n",
    "    student_data[student_name] = {'Total Marks': total_marks, 'Grade': grade}\n",
    "\n",
    "\n",
    "for student_name, data in student_data.items():\n",
    "    print(f\"\\nStudent: {student_name}\")\n",
    "    print(f\"Total Marks: {data['Total Marks']}\")\n",
    "    print(f\"Grade: {data['Grade']}\")"
   ]
  },
  {
   "cell_type": "code",
   "execution_count": null,
   "id": "1658b597-52c2-4397-bb93-baa82aa82bb9",
   "metadata": {},
   "outputs": [],
   "source": []
  }
 ],
 "metadata": {
  "kernelspec": {
   "display_name": "Python 3 (ipykernel)",
   "language": "python",
   "name": "python3"
  },
  "language_info": {
   "codemirror_mode": {
    "name": "ipython",
    "version": 3
   },
   "file_extension": ".py",
   "mimetype": "text/x-python",
   "name": "python",
   "nbconvert_exporter": "python",
   "pygments_lexer": "ipython3",
   "version": "3.9.18"
  }
 },
 "nbformat": 4,
 "nbformat_minor": 5
}
